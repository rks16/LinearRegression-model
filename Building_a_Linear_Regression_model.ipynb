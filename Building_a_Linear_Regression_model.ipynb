{
  "nbformat": 4,
  "nbformat_minor": 0,
  "metadata": {
    "colab": {
      "provenance": [],
      "authorship_tag": "ABX9TyO1RHtzrf+S0WcYzE0khLwO",
      "include_colab_link": true
    },
    "kernelspec": {
      "name": "python3",
      "display_name": "Python 3"
    },
    "language_info": {
      "name": "python"
    }
  },
  "cells": [
    {
      "cell_type": "markdown",
      "metadata": {
        "id": "view-in-github",
        "colab_type": "text"
      },
      "source": [
        "<a href=\"https://colab.research.google.com/github/rks16/LinearRegression-model/blob/main/Building_a_Linear_Regression_model.ipynb\" target=\"_parent\"><img src=\"https://colab.research.google.com/assets/colab-badge.svg\" alt=\"Open In Colab\"/></a>"
      ]
    },
    {
      "cell_type": "code",
      "execution_count": 2,
      "metadata": {
        "id": "wJgFMx9cG8MT"
      },
      "outputs": [],
      "source": [
        "# importing library\n",
        "import numpy as np\n"
      ]
    },
    {
      "cell_type": "code",
      "source": [
        "# Building a linear regression model\n",
        "\n",
        "class Linear_regression():\n",
        "\n",
        "  #initiating the parameters (learning rate and number of itterations )\n",
        "\n",
        "  def __init__(self, learning_rate, no_of_itterations ):    #hyperparameters\n",
        "\n",
        "    self.learning_rate = learing_rate\n",
        "    self.no_of_itterations = no_of_itterations\n",
        "\n",
        "\n",
        "  def fit(self, X, Y ):\n",
        "\n",
        "    # number of trainning examples and number of features\n",
        "\n",
        "    self.m, self.n = X.shape #number of rows and columns (m x n)\n",
        "\n",
        "    # initiating weight and bias\n",
        "\n",
        "    self.w = np.zeros(self.n) # creating a zero array of weights with the total number of datapts\n",
        "    self.b = 0\n",
        "    self.X = X\n",
        "    self.Y = Y\n",
        "\n",
        "    #implementing gradient decent algorothm\n",
        "\n",
        "    for i in range (self.no_of_itterations):\n",
        "      self.update_weights()\n",
        "\n",
        "  def update_weights(self,):\n",
        "    Y_predictions = self.predict(self.X)\n",
        "\n",
        "    # calculating gradients using the formula 2/n sigma....\n",
        "\n",
        "    dw = - (2 * (self.X.T).dot( self.Y - self.Y_predictions)) / self.m\n",
        "\n",
        "    db =  (2 * np.sum( self.Y - self.Y_predictions)) / self.m\n",
        "\n",
        "    #updating the weights\n",
        "\n",
        "    self.w = self.w - self.learning_rate * dw\n",
        "    self.b = self.b - self.learning_rate * db\n",
        "\n",
        "\n",
        "  def predict(self, X):\n",
        "\n",
        "    return X.dot(self.w) + self.b"
      ],
      "metadata": {
        "id": "OjLSCzu8HN-G"
      },
      "execution_count": 1,
      "outputs": []
    }
  ]
}